{
 "cells": [
  {
   "cell_type": "code",
   "execution_count": null,
   "id": "47ac79c3-42c0-4511-bdc8-e48b07f7b978",
   "metadata": {},
   "outputs": [],
   "source": [
    "# imports\n",
    "\n",
    "import os\n",
    "import glob\n",
    "from dotenv import load_dotenv\n",
    "import gradio as gr\n",
    "import numpy as np"
   ]
  },
  {
   "cell_type": "code",
   "execution_count": null,
   "id": "0274fec2-34d4-4d8d-bc85-74502bb0d603",
   "metadata": {},
   "outputs": [],
   "source": [
    "import torch\n",
    "import os\n",
    "import shutil\n",
    "#from langchain.document_loaders.pdf import PyPDFDirectoryLoader\n",
    "from langchain_community.document_loaders import PyPDFDirectoryLoader\n",
    "from langchain_text_splitters import RecursiveCharacterTextSplitter\n",
    "from langchain.schema.document import Document\n",
    "from langchain_openai import OpenAIEmbeddings, ChatOpenAI\n",
    "from langchain_chroma import Chroma\n",
    "import plotly.graph_objects as go\n",
    "from sklearn.manifold import TSNE\n",
    "from langchain.prompts import ChatPromptTemplate\n",
    "from langchain.memory import ConversationBufferMemory\n",
    "from langchain.chains import ConversationalRetrievalChain\n",
    "from langchain.chains import LLMChain"
   ]
  },
  {
   "cell_type": "code",
   "execution_count": null,
   "id": "357ce714-4e67-4afb-a1a4-70a85e9c6102",
   "metadata": {},
   "outputs": [],
   "source": [
    "# price is a factor for our company, so we're going to use a low cost model\n",
    "\n",
    "MODEL = \"gpt-4o-mini\"\n",
    "db_name = \"vector_db\"\n",
    "# your path to the slides folder\n",
    "DATA_PATH = \"slides_knowledge_base\" \n",
    "OLD_CHUNK_ID = \"\"\n"
   ]
  },
  {
   "cell_type": "code",
   "execution_count": null,
   "id": "ffaaf896-96c6-440d-9471-9c3c0c9c5e7d",
   "metadata": {},
   "outputs": [],
   "source": [
    "# Load environment variables in a file called .env\n",
    "# where your openAI key will be or else directly pass it down there\n",
    "\n",
    "load_dotenv()\n",
    "os.environ['OPENAI_API_KEY'] = os.getenv('OPENAI_API_KEY', 'your-key-if-not-using-env')"
   ]
  },
  {
   "cell_type": "code",
   "execution_count": null,
   "id": "123bbaf5-43af-4324-be26-472aeff95711",
   "metadata": {},
   "outputs": [],
   "source": [
    "# getting the files and loading the PDf \n",
    "def load_documents():\n",
    "    document_loader = PyPDFDirectoryLoader(DATA_PATH)\n",
    "    return document_loader.load()"
   ]
  },
  {
   "cell_type": "code",
   "execution_count": null,
   "id": "94d7d87c-646c-488c-9dec-4edc8c1137fc",
   "metadata": {
    "scrolled": true
   },
   "outputs": [],
   "source": [
    "# loading the documents\n",
    "documents = load_documents()"
   ]
  },
  {
   "cell_type": "code",
   "execution_count": null,
   "id": "298425a9-6f3a-4907-aedc-603056e88f96",
   "metadata": {},
   "outputs": [],
   "source": [
    "# split the documents\n",
    "def split_documents(documents: list[Document]):\n",
    "    text_splitter = RecursiveCharacterTextSplitter(\n",
    "        chunk_size=1500,\n",
    "        chunk_overlap=300,\n",
    "        length_function=len,\n",
    "        is_separator_regex=False,\n",
    "    )\n",
    "    return text_splitter.split_documents(documents)"
   ]
  },
  {
   "cell_type": "code",
   "execution_count": null,
   "id": "92e0da15-a8fb-4d08-a734-acd16dc935b8",
   "metadata": {},
   "outputs": [],
   "source": [
    "chunks =  split_documents(documents)"
   ]
  },
  {
   "cell_type": "code",
   "execution_count": null,
   "id": "515fda98-bc6e-476f-8082-dedb74119ef3",
   "metadata": {},
   "outputs": [],
   "source": [
    "#making the embeddings\n",
    "# Put the chunks of data into a Vector Store that associates a Vector Embedding with each chunk\n",
    "# Chroma is a popular open source Vector Database based on SQLLite\n",
    "\n",
    "embeddings = OpenAIEmbeddings()\n",
    "\n"
   ]
  },
  {
   "cell_type": "code",
   "execution_count": null,
   "id": "c5dcf007-1e11-4b8a-b43a-6fc3e82c21af",
   "metadata": {},
   "outputs": [],
   "source": [
    "# it will calculate the chunk ids for the update of slides\n",
    "def calculate_chunk_ids(chunks):\n",
    "\n",
    "    # This will create IDs like \"data/monopoly.pdf:6:2\"\n",
    "    # Page Source : Page Number : Chunk Index\n",
    "\n",
    "    last_page_id = None\n",
    "    current_chunk_index = 0\n",
    "\n",
    "    for chunk in chunks:\n",
    "        source = chunk.metadata.get(\"source\")\n",
    "        page = chunk.metadata.get(\"page\")\n",
    "        current_page_id = f\"{source}:{page}\"\n",
    "\n",
    "        # If the page ID is the same as the last one, increment the index.\n",
    "        if current_page_id == last_page_id:\n",
    "            current_chunk_index += 1\n",
    "        else:\n",
    "            current_chunk_index = 0\n",
    "\n",
    "        # Calculate the chunk ID.\n",
    "        chunk_id = f\"{current_page_id}:{current_chunk_index}\"\n",
    "        last_page_id = current_page_id\n",
    "\n",
    "        # Add it to the page meta-data.\n",
    "        chunk.metadata[\"id\"] = chunk_id\n",
    "\n",
    "    return chunks"
   ]
  },
  {
   "cell_type": "code",
   "execution_count": null,
   "id": "be138c93-c4b3-4384-91a8-a332dd04c7a2",
   "metadata": {},
   "outputs": [],
   "source": [
    "# adding to the vector Database\n",
    "def add_to_chroma(chunks: list[Document]):\n",
    "    # Chroma(persist_directory=db_name, embedding_function=embeddings).delete_collection()\n",
    "    #Create vectorstore\n",
    "    vectorstore = Chroma.from_documents(documents=chunks, embedding=embeddings, persist_directory=db_name)\n",
    "    OLD_CHUNK_ID = calculate_chunk_ids(chunks)\n",
    "    print(f\"Vectorstore created with {vectorstore._collection.count()} documents\")\n",
    "    return vectorstore , OLD_CHUNK_ID\n",
    "        \n"
   ]
  },
  {
   "cell_type": "code",
   "execution_count": null,
   "id": "b5c7e355-87e5-4b3f-b51c-5d9026369844",
   "metadata": {},
   "outputs": [],
   "source": [
    "#getting the database and the chunks ids of the pdf\n",
    "vectorstore , OLD_CHUNK_ID = add_to_chroma(chunks)"
   ]
  },
  {
   "cell_type": "code",
   "execution_count": null,
   "id": "5018b389-cdda-48fb-9a76-6fe8a5480300",
   "metadata": {},
   "outputs": [],
   "source": [
    "# function for checking for the new data\n",
    "def check_data(new_chunks_id : list, old_chunks_id:list):\n",
    "\n",
    "    # Collecting the IDs from the newlist for comparison\n",
    "    oldlist_ids = {old_doc.metadata['id'] for old_doc in old_chunks_id}\n",
    "    # Iterate through the oldlist and check if the ID exists in newlist\n",
    "    new_chunks= []\n",
    "    for new_doc in new_chunks_id:\n",
    "        if new_doc.metadata['id'] not in oldlist_ids:\n",
    "            new_chunks.append(new_doc)\n",
    "            \n",
    "\n",
    "\n",
    "    if len(new_chunks):\n",
    "        print(f\"👉 Adding new documents: {len(new_chunks)}\")\n",
    "        vectorstore.add_documents(documents = new_chunks_id)\n",
    "        return new_chunks_id\n",
    "        \n",
    "        # new_chunk_ids = [chunk.metadata[\"id\"] for chunk in new_chunks]\n",
    "        # db.add_documents(new_chunks, ids=new_chunk_ids)\n",
    "    else:\n",
    "        print(\"✅ No new documents to add\")\n",
    "        return new_chunks_id\n",
    "\n",
    "    "
   ]
  },
  {
   "cell_type": "code",
   "execution_count": null,
   "id": "3570cc1a-2121-4426-98f7-d617dae56599",
   "metadata": {},
   "outputs": [],
   "source": [
    "# it will create the database if not exist and will make the first embeddings\n",
    "def new_pdf():\n",
    "    if os.path.exists(db_name):\n",
    "        new_documents = load_documents()\n",
    "        new_chunks =  split_documents(new_documents)\n",
    "        new_chunks_id = calculate_chunk_ids(new_chunks)\n",
    "        return new_chunks_id\n",
    "    else:\n",
    "        print(\"first create your database\")"
   ]
  },
  {
   "cell_type": "code",
   "execution_count": null,
   "id": "ccecc3c9-ef6a-418a-97d5-39ef49cf87cb",
   "metadata": {
    "scrolled": true
   },
   "outputs": [],
   "source": [
    "# it will return the chunk ids\n",
    "getting_new_chunks_ids = new_pdf()"
   ]
  },
  {
   "cell_type": "code",
   "execution_count": null,
   "id": "f83f844c-221d-4bb1-ada5-f14894a19928",
   "metadata": {},
   "outputs": [],
   "source": [
    "# will check if new slide entered or not\n",
    "new_chunks_id = check_data(getting_new_chunks_ids,OLD_CHUNK_ID)"
   ]
  },
  {
   "cell_type": "code",
   "execution_count": null,
   "id": "827adb4e-6497-4e4f-a593-9a11d4036941",
   "metadata": {},
   "outputs": [],
   "source": [
    "# setting the global variable\n",
    "OLD_CHUNK_ID = new_chunks_id"
   ]
  },
  {
   "cell_type": "code",
   "execution_count": null,
   "id": "a1f543a9-4344-492f-916f-5de2d3a37bf8",
   "metadata": {},
   "outputs": [],
   "source": [
    "print(f\"Vectorstore created with {vectorstore._collection.count()} documents\")"
   ]
  },
  {
   "cell_type": "code",
   "execution_count": null,
   "id": "a025008d-0576-45b3-97bc-3bef9ef3f53b",
   "metadata": {},
   "outputs": [],
   "source": [
    "# Get one vector and find how many dimensions it has\n",
    "collection = vectorstore._collection\n",
    "sample_embedding = collection.get(limit=1, include=[\"embeddings\"])[\"embeddings\"][0]\n",
    "dimensions = len(sample_embedding)\n",
    "print(f\"The vectors have {dimensions:,} dimensions\")"
   ]
  },
  {
   "cell_type": "code",
   "execution_count": null,
   "id": "7735e91a-c038-4951-9dfa-43837d25d101",
   "metadata": {
    "scrolled": true
   },
   "outputs": [],
   "source": [
    "# Get the embeddings, documents, and metadatas\n",
    "result = collection.get(include=['embeddings', 'documents', 'metadatas'])\n",
    "vectors = np.array(result['embeddings'])\n",
    "documents = result['documents']\n",
    "doc_types = [metadata['source'] for metadata in result['metadatas']]\n",
    "\n",
    "# Define a pool of base colors\n",
    "base_colors = ['blue', 'green', 'red', 'orange', 'yellow', 'grey', 'indigo', 'olive', 'forestgreen', 'pink', 'violet', 'darkred', 'ivory']\n",
    "\n",
    "# Create a mapping of document types to colors\n",
    "unique_doc_types = list(set(doc_types))  # Get unique document types\n",
    "num_unique_docs = len(unique_doc_types)\n",
    "\n",
    "# If there are more unique document types than base colors, generate more colors\n",
    "if num_unique_docs > len(base_colors):\n",
    "    # You can use a color generation library like matplotlib to generate distinct colors\n",
    "    import matplotlib.pyplot as plt\n",
    "    colors = plt.cm.get_cmap('hsv', num_unique_docs)  # Using a colormap to get distinct colors\n",
    "    color_mapping = {doc: colors(i) for i, doc in enumerate(unique_doc_types)}\n",
    "else:\n",
    "    color_mapping = {doc: base_colors[i] for i, doc in enumerate(unique_doc_types)}\n",
    "\n",
    "# Assign colors based on document types\n",
    "colors = [color_mapping[t] for t in doc_types]\n"
   ]
  },
  {
   "cell_type": "code",
   "execution_count": null,
   "id": "d46fb427-4a99-4aac-b11f-86390a8634f4",
   "metadata": {},
   "outputs": [],
   "source": []
  },
  {
   "cell_type": "code",
   "execution_count": null,
   "id": "43438e49-4ca6-4814-9bc5-2416e9df824f",
   "metadata": {},
   "outputs": [],
   "source": [
    "# We humans find it easier to visalize things in 2D!\n",
    "# Reduce the dimensionality of the vectors to 2D using t-SNE\n",
    "# (t-distributed stochastic neighbor embedding)\n",
    "\n",
    "tsne = TSNE(n_components=2, random_state=42)\n",
    "reduced_vectors = tsne.fit_transform(vectors)\n",
    "\n",
    "# Create the 2D scatter plot\n",
    "fig = go.Figure(data=[go.Scatter(\n",
    "    x=reduced_vectors[:, 0],\n",
    "    y=reduced_vectors[:, 1],\n",
    "    mode='markers',\n",
    "    marker=dict(size=5, color=colors, opacity=0.8),\n",
    "    text=[f\"Type: {t}<br>Text: {d[:100]}...\" for t, d in zip(doc_types, documents)],\n",
    "    hoverinfo='text'\n",
    ")])\n",
    "\n",
    "fig.update_layout(\n",
    "    title='2D Chroma Vector Store Visualization',\n",
    "    scene=dict(xaxis_title='x',yaxis_title='y'),\n",
    "    width=800,\n",
    "    height=600,\n",
    "    margin=dict(r=20, b=10, l=10, t=40)\n",
    ")\n",
    "\n",
    "fig.show()"
   ]
  },
  {
   "cell_type": "code",
   "execution_count": null,
   "id": "234c9235-f808-4bec-897b-a2ffa5e88d07",
   "metadata": {},
   "outputs": [],
   "source": [
    "# Let's try 3D!\n",
    "\n",
    "tsne = TSNE(n_components=3, random_state=42)\n",
    "reduced_vectors = tsne.fit_transform(vectors)\n",
    "\n",
    "# Create the 3D scatter plot\n",
    "fig = go.Figure(data=[go.Scatter3d(\n",
    "    x=reduced_vectors[:, 0],\n",
    "    y=reduced_vectors[:, 1],\n",
    "    z=reduced_vectors[:, 2],\n",
    "    mode='markers',\n",
    "    marker=dict(size=5, color=colors, opacity=0.8),\n",
    "    text=[f\"Type: {t}<br>Text: {d[:100]}...\" for t, d in zip(doc_types, documents)],\n",
    "    hoverinfo='text'\n",
    ")])\n",
    "\n",
    "fig.update_layout(\n",
    "    title='3D Chroma Vector Store Visualization',\n",
    "    scene=dict(xaxis_title='x', yaxis_title='y', zaxis_title='z'),\n",
    "    width=900,\n",
    "    height=700,\n",
    "    margin=dict(r=20, b=10, l=10, t=40)\n",
    ")\n",
    "\n",
    "fig.show()"
   ]
  },
  {
   "cell_type": "code",
   "execution_count": null,
   "id": "ef1e87c6-f4d7-4839-b3ea-1561c42e4e1d",
   "metadata": {},
   "outputs": [],
   "source": [
    "# create a new Chat with OpenAI\n",
    "llm = ChatOpenAI(temperature=0.2, model_name=MODEL)\n",
    "\n",
    "# set up the conversation memory for the chat\n",
    "memory = ConversationBufferMemory(memory_key='chat_history', return_messages=True)\n",
    "\n",
    "# the retriever is an abstraction over the VectorStore that will be used during RAG\n",
    "retriever = vectorstore.as_retriever(search_kwargs={\"k\": 25})\n",
    "\n",
    "\n",
    "# putting it together: set up the conversation chain with the GPT 3.5 LLM, the vector store and memory\n",
    "conversation_chain = ConversationalRetrievalChain.from_llm(llm=llm, retriever=retriever, memory=memory ,verbose=True)"
   ]
  },
  {
   "cell_type": "code",
   "execution_count": null,
   "id": "efc3698e-c1d2-4c0e-aec8-4e001c2b2514",
   "metadata": {},
   "outputs": [],
   "source": [
    "query = \"in bagging we need to train models on which version of dataset?\"\n",
    "result = conversation_chain.invoke({\"question\":query})\n",
    "print(result[\"answer\"])"
   ]
  },
  {
   "cell_type": "code",
   "execution_count": null,
   "id": "b888d553-5055-4088-b1f2-c0ae222e2066",
   "metadata": {},
   "outputs": [],
   "source": [
    "# you can use the gradio for that too \n",
    "def chat(question, history):\n",
    "    result = conversation_chain.invoke({\"question\": question})\n",
    "    return result[\"answer\"]"
   ]
  },
  {
   "cell_type": "code",
   "execution_count": null,
   "id": "198fa138",
   "metadata": {},
   "outputs": [],
   "source": [
    "view = gr.ChatInterface(chat).launch()"
   ]
  },
  {
   "cell_type": "code",
   "execution_count": null,
   "id": "4b037613",
   "metadata": {},
   "outputs": [],
   "source": []
  }
 ],
 "metadata": {
  "kernelspec": {
   "display_name": "Python 3 (ipykernel)",
   "language": "python",
   "name": "python3"
  },
  "language_info": {
   "codemirror_mode": {
    "name": "ipython",
    "version": 3
   },
   "file_extension": ".py",
   "mimetype": "text/x-python",
   "name": "python",
   "nbconvert_exporter": "python",
   "pygments_lexer": "ipython3",
   "version": "3.11.10"
  }
 },
 "nbformat": 4,
 "nbformat_minor": 5
}
